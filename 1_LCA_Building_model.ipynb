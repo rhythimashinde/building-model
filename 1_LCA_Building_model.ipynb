{
 "cells": [
  {
   "cell_type": "code",
   "execution_count": null,
   "metadata": {},
   "outputs": [],
   "source": [
    "# This part you need to run once per project, which I have already done, so it is commented out. \n",
    "# It imports necessary databases (possibly a lengthy process), and backs up the project directory \n",
    "# so that it is saved in the home directory. The backed up project can be used by other project \n",
    "# collaborators without the need to import any databases again. The next section starts with restoring \n",
    "# the saved project from directory.\n",
    "\n",
    "# import bw2data as bd\n",
    "# import bw2calc as bc\n",
    "# import bw2io as bi\n",
    "# import numpy as np\n",
    "\n",
    "# ei_path = \"/Users/akim/Documents/LCA_files/ecoinvent_38_cutoff/datasets\"\n",
    "# ei_name = \"ecoinvent 3.8 cutoff\"\n",
    "\n",
    "# bd.projects.set_current(\"Building paper\")"
   ]
  },
  {
   "cell_type": "code",
   "execution_count": null,
   "metadata": {},
   "outputs": [],
   "source": [
    "# # Import biosphere\n",
    "# bi.bw2setup()"
   ]
  },
  {
   "cell_type": "code",
   "execution_count": null,
   "metadata": {},
   "outputs": [],
   "source": [
    "# # Import ecoinvent\n",
    "# if ei_name in bd.databases:\n",
    "#     print(\"database already exists\")\n",
    "# else:\n",
    "#     ei = bi.SingleOutputEcospold2Importer(ei_path, ei_name)\n",
    "#     ei.apply_strategies()\n",
    "#     assert ei.all_linked\n",
    "#     ei.write_database()"
   ]
  },
  {
   "cell_type": "code",
   "execution_count": null,
   "metadata": {},
   "outputs": [],
   "source": [
    "# bi.backup_project_directory(\"Building paper\")"
   ]
  },
  {
   "cell_type": "code",
   "execution_count": 2,
   "metadata": {},
   "outputs": [],
   "source": [
    "import os\n",
    "os.chdir(\"/home/shinder/0_work/1_Models/2_building/2a_integrations/model_building/building-model/model_lca\")\n",
    "\n",
    "import bw2data as bd\n",
    "import bw2calc as bc\n",
    "import bw2io as bi\n",
    "import numpy as np\n",
    "\n",
    "# Only need to run this once! Otherwise you might work on this project, eg import `building lci` database, \n",
    "# but then overwrite it if you restore it from the backup\n",
    "# fp_building_bw_project = \"brightway2-project-Building paper-backup.19-September-2022-03-55PM.tar.gz\"\n",
    "# bi.restore_project_directory(fp_building_bw_project)"
   ]
  },
  {
   "cell_type": "code",
   "execution_count": 3,
   "metadata": {},
   "outputs": [
    {
     "data": {
      "text/plain": [
       "Databases dictionary with 3 object(s):\n",
       "\tbiosphere3\n",
       "\tbuilding lci\n",
       "\tecoinvent 3.8 cutoff"
      ]
     },
     "execution_count": 3,
     "metadata": {},
     "output_type": "execute_result"
    }
   ],
   "source": [
    "bd.projects.set_current(\"Building paper\")\n",
    "bd.databases"
   ]
  },
  {
   "cell_type": "code",
   "execution_count": 4,
   "metadata": {},
   "outputs": [
    {
     "name": "stdout",
     "output_type": "stream",
     "text": [
      "Extracted 3 worksheets in 0.13 seconds\n",
      "Applying strategy: csv_restore_tuples\n",
      "Applying strategy: csv_restore_booleans\n",
      "Applying strategy: csv_numerize\n",
      "Applying strategy: csv_drop_unknown\n",
      "Applying strategy: csv_add_missing_exchanges_section\n",
      "Applying strategy: normalize_units\n",
      "Applying strategy: normalize_biosphere_categories\n",
      "Applying strategy: normalize_biosphere_names\n",
      "Applying strategy: strip_biosphere_exc_locations\n",
      "Applying strategy: set_code_by_activity_hash\n",
      "Applying strategy: link_iterable_by_fields\n",
      "Applying strategy: assign_only_product_as_production\n",
      "Applying strategy: link_technosphere_by_activity_hash\n",
      "Applying strategy: drop_falsey_uncertainty_fields_but_keep_zeros\n",
      "Applying strategy: convert_uncertainty_types_to_integers\n",
      "Applying strategy: convert_activity_parameters_to_list\n",
      "Applied 16 strategies in 15.31 seconds\n",
      "Applying strategy: link_iterable_by_fields\n"
     ]
    },
    {
     "name": "stderr",
     "output_type": "stream",
     "text": [
      "Writing activities to SQLite3 database:\n"
     ]
    },
    {
     "name": "stdout",
     "output_type": "stream",
     "text": [
      "Applying strategy: link_iterable_by_fields\n",
      "24 datasets\n",
      "117 exchanges\n",
      "0 unlinked exchanges\n",
      "  \n"
     ]
    },
    {
     "name": "stderr",
     "output_type": "stream",
     "text": [
      "0% [########################] 100% | ETA: 00:00:00\n",
      "Total time elapsed: 00:00:00\n"
     ]
    },
    {
     "name": "stdout",
     "output_type": "stream",
     "text": [
      "Title: Writing activities to SQLite3 database:\n",
      "  Started: 01/10/2023 15:09:39\n",
      "  Finished: 01/10/2023 15:09:39\n",
      "  Total time elapsed: 00:00:00\n",
      "  CPU %: 146.90\n",
      "  Memory %: 0.08\n",
      "Created database: building lci\n"
     ]
    }
   ],
   "source": [
    "# Import foreground database from excel\n",
    "\n",
    "# delete database \n",
    "# -- doesn't hurt to do it every time you run the code, because it is very fast, but your database is then always updated\n",
    "# del bd.databases[\"building lci\"]  \n",
    "\n",
    "# if \"building lci\" not in bd.databases:\n",
    "fp_building_lci_excel = \"building_lci.xlsx\"\n",
    "bld = bi.ExcelImporter(fp_building_lci_excel)\n",
    "bld.apply_strategies()\n",
    "bld.match_database(\"ecoinvent 3.8 cutoff\", fields=(\"name\", \"location\"))\n",
    "bld.match_database()\n",
    "\n",
    "if bld.all_linked:\n",
    "    bld.write_database()\n",
    "else:\n",
    "    bld.statistics()"
   ]
  },
  {
   "cell_type": "code",
   "execution_count": null,
   "metadata": {},
   "outputs": [],
   "source": [
    "list (bld.unlinked)"
   ]
  },
  {
   "cell_type": "code",
   "execution_count": null,
   "metadata": {},
   "outputs": [],
   "source": [
    "# LCIA\n",
    "bld = bd.Database(\"building lci\")\n",
    "\n",
    "n =12 #number of buildings\n",
    "for x in range(1,n+1):\n",
    "    building_name = str(\"building \")+str(x)\n",
    "    demand_act = [act for act in bld if building_name in act['name']]\n",
    "#     assert len(demand_act) == 1\n",
    "    demand_act = demand_act[0]\n",
    "\n",
    "    method = ('IPCC 2013', 'climate change', 'GWP 100a')\n",
    "\n",
    "    lca = bc.LCA({demand_act: 1}, method)\n",
    "    lca.lci()\n",
    "    lca.lcia()\n",
    "    print(building_name, lca.score)"
   ]
  },
  {
   "cell_type": "code",
   "execution_count": 11,
   "metadata": {},
   "outputs": [],
   "source": [
    "import pandas as pd\n",
    "df_lci = pd.read_excel(open('Material_inventory_mapping.xlsx', 'rb'), sheet_name='Component wise inventories')  "
   ]
  },
  {
   "cell_type": "code",
   "execution_count": 13,
   "metadata": {},
   "outputs": [
    {
     "data": {
      "text/plain": [
       "0               12 cm X 16 cm timber frame construction \n",
       "1                               3-layer solid wood panel\n",
       "2                    3-layer solid wood panel PVAc-bound\n",
       "3              5-layer insulated (glass wool) wood panel\n",
       "4      8cm x 12cm timber frame construction with inte...\n",
       "                             ...                        \n",
       "157    Timber frame construction with intermediate ro...\n",
       "158                  Vapour barrier of polyethylene (PE)\n",
       "159             Vapour barrier of polypropylene nonwoven\n",
       "160                                           Wind paper\n",
       "161                       Wood wool board, cement bonded\n",
       "Name: Viola material, Length: 162, dtype: object"
      ]
     },
     "execution_count": 13,
     "metadata": {},
     "output_type": "execute_result"
    }
   ],
   "source": [
    "df_lci['Viola material']"
   ]
  },
  {
   "cell_type": "code",
   "execution_count": 152,
   "metadata": {},
   "outputs": [
    {
     "name": "stdout",
     "output_type": "stream",
     "text": [
      "'heat production, natural gas, at boiler condensing modulating <100kW' (megajoule, CH, None)\n",
      "0.07010865355349419\n"
     ]
    }
   ],
   "source": [
    "x = \"heat production, natural gas, at boiler condensing modulating <100kW\"\n",
    "# y = \"mix\"\n",
    "ei =    bd.Database(\"ecoinvent 3.8 cutoff\")\n",
    "demand_act = [act for act in ei if x in act['name'] and 'CH' in act['location']]\n",
    "method = ('IPCC 2013', 'climate change', 'GWP 100a')\n",
    "demand_act = demand_act[0]\n",
    "print(demand_act)\n",
    "lca = bc.LCA({demand_act: 1}, method)\n",
    "lca.lci()\n",
    "lca.lcia()\n",
    "print(lca.score)"
   ]
  },
  {
   "cell_type": "code",
   "execution_count": null,
   "metadata": {},
   "outputs": [],
   "source": []
  },
  {
   "cell_type": "code",
   "execution_count": null,
   "metadata": {},
   "outputs": [],
   "source": []
  },
  {
   "cell_type": "code",
   "execution_count": null,
   "metadata": {},
   "outputs": [],
   "source": []
  },
  {
   "cell_type": "code",
   "execution_count": 153,
   "metadata": {},
   "outputs": [],
   "source": []
  },
  {
   "cell_type": "code",
   "execution_count": 4,
   "metadata": {},
   "outputs": [],
   "source": [
    "import pandas as pd\n",
    "import numpy as np\n",
    "import matplotlib.pyplot as plt\n",
    "import os"
   ]
  },
  {
   "cell_type": "code",
   "execution_count": 5,
   "metadata": {},
   "outputs": [],
   "source": [
    "os.chdir('/home/shinder/0_work/1_Models/2_building/2a_integrations/model_building/building-model/')"
   ]
  },
  {
   "cell_type": "code",
   "execution_count": 55,
   "metadata": {},
   "outputs": [],
   "source": [
    "u_floor = pd.read_excel('model_material/2_U_values/U-Values_final.xlsx',sheet_name='floor')"
   ]
  },
  {
   "cell_type": "code",
   "execution_count": 56,
   "metadata": {},
   "outputs": [],
   "source": [
    "u_roof = pd.read_excel('model_material/2_U_values/U-Values_final.xlsx',sheet_name='roof')"
   ]
  },
  {
   "cell_type": "code",
   "execution_count": 57,
   "metadata": {},
   "outputs": [],
   "source": [
    "u_wall = pd.read_excel('model_material/2_U_values/U-Values_final.xlsx',sheet_name='wall')"
   ]
  },
  {
   "cell_type": "code",
   "execution_count": 65,
   "metadata": {},
   "outputs": [],
   "source": [
    "values_floor, base_floor = np.histogram(u_floor['thermal conductivity'],bins=40)\n",
    "values_roof, base_roof = np.histogram(u_roof['thermal conductivity'],bins=40)\n",
    "values_wall, base_wall = np.histogram(u_wall['thermal conductivity'],bins=40)"
   ]
  },
  {
   "cell_type": "code",
   "execution_count": 66,
   "metadata": {},
   "outputs": [],
   "source": [
    "cumulative_floor = np.cumsum(values_floor)\n",
    "cumulative_roof = np.cumsum(values_roof)\n",
    "cumulative_wall = np.cumsum(values_wall)"
   ]
  },
  {
   "cell_type": "code",
   "execution_count": 82,
   "metadata": {},
   "outputs": [
    {
     "data": {
      "text/plain": [
       "(10.35, 45.0)"
      ]
     },
     "execution_count": 82,
     "metadata": {},
     "output_type": "execute_result"
    },
    {
     "data": {
      "image/png": "[encoded data removed]",
      "text/plain": [
       "<Figure size 640x480 with 1 Axes>"
      ]
     },
     "metadata": {},
     "output_type": "display_data"
    }
   ],
   "source": [
    "plt.plot(base_floor[:-1], cumulative_floor, c='blue')\n",
    "plt.ylabel('Cumulative frequency')\n",
    "plt.xlabel('Thermal conductivities of materials in floor [W/m.K]')\n",
    "plt.ylim(top=55)"
   ]
  },
  {
   "cell_type": "code",
   "execution_count": 83,
   "metadata": {},
   "outputs": [
    {
     "data": {
      "text/plain": [
       "(10.2, 55.0)"
      ]
     },
     "execution_count": 83,
     "metadata": {},
     "output_type": "execute_result"
    },
    {
     "data": {
      "image/png": "[encoded data removed]",
      "text/plain": [
       "<Figure size 640x480 with 1 Axes>"
      ]
     },
     "metadata": {},
     "output_type": "display_data"
    }
   ],
   "source": [
    "plt.plot(base_roof[:-1], cumulative_roof, c='blue')\n",
    "plt.ylabel('Cumulative frequency')\n",
    "plt.xlabel('Thermal conductivities of materials in roof [W/m.K]')\n",
    "plt.ylim(top=55)"
   ]
  },
  {
   "cell_type": "code",
   "execution_count": 84,
   "metadata": {},
   "outputs": [
    {
     "data": {
      "text/plain": [
       "(12.0, 55.0)"
      ]
     },
     "execution_count": 84,
     "metadata": {},
     "output_type": "execute_result"
    },
    {
     "data": {
      "image/png": "[encoded data removed]",
      "text/plain": [
       "<Figure size 640x480 with 1 Axes>"
      ]
     },
     "metadata": {},
     "output_type": "display_data"
    }
   ],
   "source": [
    "plt.plot(base_wall[:-1], cumulative_wall, c='blue')\n",
    "plt.ylabel('Cumulative frequency')\n",
    "plt.xlabel('Thermal conductivities of materials in wall [W/m.K]')\n",
    "plt.ylim(top=55)"
   ]
  },
  {
   "cell_type": "code",
   "execution_count": 68,
   "metadata": {},
   "outputs": [
    {
     "data": {
      "image/png": "[encoded data removed]",
      "text/plain": [
       "<Figure size 640x480 with 1 Axes>"
      ]
     },
     "metadata": {},
     "output_type": "display_data"
    }
   ],
   "source": [
    "for x,y in zip(base_floor,cumulative_floor):\n",
    "\n",
    "    label = \"{:.2f}\".format(y)\n",
    "\n",
    "    plt.annotate(label, # this is the text\n",
    "                 (x,y), # these are the coordinates to position the label\n",
    "                 textcoords=\"offset points\", # how to position the text\n",
    "                 xytext=(0,10), # distance from text to points (x,y)\n",
    "                 ha='center') # horizontal alignment can be left, right or center"
   ]
  },
  {
   "cell_type": "code",
   "execution_count": null,
   "metadata": {},
   "outputs": [],
   "source": []
  }
 ],
 "metadata": {
  "kernelspec": {
   "display_name": "Python (lca-env)",
   "language": "python",
   "name": "lca-env"
  },
  "language_info": {
   "codemirror_mode": {
    "name": "ipython",
    "version": 3
   },
   "file_extension": ".py",
   "mimetype": "text/x-python",
   "name": "python",
   "nbconvert_exporter": "python",
   "pygments_lexer": "ipython3",
   "version": "3.10.4"
  }
 },
 "nbformat": 4,
 "nbformat_minor": 5
}
