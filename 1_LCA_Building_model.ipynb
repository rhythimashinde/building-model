{
 "cells": [
  {
   "cell_type": "code",
   "execution_count": null,
   "id": "f5942223",
   "metadata": {},
   "outputs": [],
   "source": [
    "# This part you need to run once per project, which I have already done, so it is commented out. \n",
    "# It imports necessary databases (possibly a lengthy process), and backs up the project directory \n",
    "# so that it is saved in the home directory. The backed up project can be used by other project \n",
    "# collaborators without the need to import any databases again. The next section starts with restoring \n",
    "# the saved project from directory.\n",
    "\n",
    "# import bw2data as bd\n",
    "# import bw2calc as bc\n",
    "# import bw2io as bi\n",
    "# import numpy as np\n",
    "\n",
    "# ei_path = \"/Users/akim/Documents/LCA_files/ecoinvent_38_cutoff/datasets\"\n",
    "# ei_name = \"ecoinvent 3.8 cutoff\"\n",
    "\n",
    "# bd.projects.set_current(\"Building paper\")"
   ]
  },
  {
   "cell_type": "code",
   "execution_count": null,
   "id": "856d2f98",
   "metadata": {},
   "outputs": [],
   "source": [
    "# # Import biosphere\n",
    "# bi.bw2setup()"
   ]
  },
  {
   "cell_type": "code",
   "execution_count": null,
   "id": "6dec5a59",
   "metadata": {},
   "outputs": [],
   "source": [
    "# # Import ecoinvent\n",
    "# if ei_name in bd.databases:\n",
    "#     print(\"database already exists\")\n",
    "# else:\n",
    "#     ei = bi.SingleOutputEcospold2Importer(ei_path, ei_name)\n",
    "#     ei.apply_strategies()\n",
    "#     assert ei.all_linked\n",
    "#     ei.write_database()"
   ]
  },
  {
   "cell_type": "code",
   "execution_count": null,
   "id": "a7f9f581",
   "metadata": {},
   "outputs": [],
   "source": [
    "# bi.backup_project_directory(\"Building paper\")"
   ]
  },
  {
   "cell_type": "code",
   "execution_count": 1,
   "id": "44b81dbc",
   "metadata": {},
   "outputs": [],
   "source": [
    "import os\n",
    "os.chdir(\"/home/shinder/0_work/1_Models/2_building/2a_integrations/model_material/lca\")\n",
    "\n",
    "import bw2data as bd\n",
    "import bw2calc as bc\n",
    "import bw2io as bi\n",
    "import numpy as np\n",
    "\n",
    "# Only need to run this once! Otherwise you might work on this project, eg import `building lci` database, \n",
    "# but then overwrite it if you restore it from the backup\n",
    "# fp_building_bw_project = \"brightway2-project-Building paper-backup.19-September-2022-03-55PM.tar.gz\"\n",
    "# bi.restore_project_directory(fp_building_bw_project)"
   ]
  },
  {
   "cell_type": "code",
   "execution_count": 2,
   "id": "195a5bd8",
   "metadata": {},
   "outputs": [
    {
     "data": {
      "text/plain": [
       "Databases dictionary with 3 object(s):\n",
       "\tbiosphere3\n",
       "\tbuilding lci\n",
       "\tecoinvent 3.8 cutoff"
      ]
     },
     "execution_count": 2,
     "metadata": {},
     "output_type": "execute_result"
    }
   ],
   "source": [
    "bd.projects.set_current(\"Building paper\")\n",
    "bd.databases"
   ]
  },
  {
   "cell_type": "code",
   "execution_count": 139,
   "id": "9daa351c",
   "metadata": {},
   "outputs": [
    {
     "name": "stdout",
     "output_type": "stream",
     "text": [
      "Extracted 1 worksheets in 0.03 seconds\n",
      "Applying strategy: csv_restore_tuples\n",
      "Applying strategy: csv_restore_booleans\n",
      "Applying strategy: csv_numerize\n",
      "Applying strategy: csv_drop_unknown\n",
      "Applying strategy: csv_add_missing_exchanges_section\n",
      "Applying strategy: normalize_units\n",
      "Applying strategy: normalize_biosphere_categories\n",
      "Applying strategy: normalize_biosphere_names\n",
      "Applying strategy: strip_biosphere_exc_locations\n",
      "Applying strategy: set_code_by_activity_hash\n",
      "Applying strategy: link_iterable_by_fields\n",
      "Applying strategy: assign_only_product_as_production\n",
      "Applying strategy: link_technosphere_by_activity_hash\n",
      "Applying strategy: drop_falsey_uncertainty_fields_but_keep_zeros\n",
      "Applying strategy: convert_uncertainty_types_to_integers\n",
      "Applying strategy: convert_activity_parameters_to_list\n",
      "Applied 16 strategies in 15.36 seconds\n",
      "Applying strategy: link_iterable_by_fields\n"
     ]
    },
    {
     "name": "stderr",
     "output_type": "stream",
     "text": [
      "Writing activities to SQLite3 database:\n"
     ]
    },
    {
     "name": "stdout",
     "output_type": "stream",
     "text": [
      "Applying strategy: link_iterable_by_fields\n",
      "12 datasets\n",
      "93 exchanges\n",
      "0 unlinked exchanges\n",
      "  \n"
     ]
    },
    {
     "name": "stderr",
     "output_type": "stream",
     "text": [
      "0% [############] 100% | ETA: 00:00:00\n",
      "Total time elapsed: 00:00:00\n"
     ]
    },
    {
     "name": "stdout",
     "output_type": "stream",
     "text": [
      "Title: Writing activities to SQLite3 database:\n",
      "  Started: 10/26/2022 11:46:17\n",
      "  Finished: 10/26/2022 11:46:17\n",
      "  Total time elapsed: 00:00:00\n",
      "  CPU %: 118.50\n",
      "  Memory %: 0.19\n",
      "Created database: building lci\n"
     ]
    }
   ],
   "source": [
    "# Import foreground database from excel\n",
    "\n",
    "# delete database \n",
    "# -- doesn't hurt to do it every time you run the code, because it is very fast, but your database is then always updated\n",
    "# del bd.databases[\"building lci\"]  \n",
    "\n",
    "# if \"building lci\" not in bd.databases:\n",
    "fp_building_lci_excel = \"building_lci_1_scenario_insulation_test.xlsx\"\n",
    "bld = bi.ExcelImporter(fp_building_lci_excel)\n",
    "bld.apply_strategies()\n",
    "bld.match_database(\"ecoinvent 3.8 cutoff\", fields=(\"name\", \"location\"))\n",
    "bld.match_database()\n",
    "\n",
    "if bld.all_linked:\n",
    "    bld.write_database()\n",
    "else:\n",
    "    bld.statistics()"
   ]
  },
  {
   "cell_type": "code",
   "execution_count": 123,
   "id": "c75a41f4",
   "metadata": {},
   "outputs": [
    {
     "data": {
      "text/plain": [
       "[]"
      ]
     },
     "execution_count": 123,
     "metadata": {},
     "output_type": "execute_result"
    }
   ],
   "source": [
    "list (bld.unlinked)"
   ]
  },
  {
   "cell_type": "code",
   "execution_count": 140,
   "id": "ec4b7096",
   "metadata": {},
   "outputs": [
    {
     "name": "stdout",
     "output_type": "stream",
     "text": [
      "building 1 5.225618930242147\n",
      "building 2 7.996399843761052\n",
      "building 3 3.0359596980818453\n",
      "building 4 3.4709363406241196\n",
      "building 5 2.2843791606999426\n",
      "building 6 8.468499050672598\n",
      "building 7 3.8210960315919875\n",
      "building 8 3.5781753497420783\n",
      "building 9 2.736259696839067\n",
      "building 10 3.6410514076694094\n",
      "building 11 4.1716641341421505\n",
      "building 12 5.189325019046301\n"
     ]
    }
   ],
   "source": [
    "# LCIA\n",
    "bld = bd.Database(\"building lci\")\n",
    "\n",
    "n =12 #number of buildings\n",
    "for x in range(1,n+1):\n",
    "    building_name = str(\"building \")+str(x)\n",
    "    demand_act = [act for act in bld if building_name in act['name']]\n",
    "#     assert len(demand_act) == 1\n",
    "    demand_act = demand_act[0]\n",
    "\n",
    "    method = ('IPCC 2013', 'climate change', 'GWP 100a')\n",
    "\n",
    "    lca = bc.LCA({demand_act: 1}, method)\n",
    "    lca.lci()\n",
    "    lca.lcia()\n",
    "    print(building_name, lca.score)"
   ]
  },
  {
   "cell_type": "code",
   "execution_count": 134,
   "id": "bc791c1c",
   "metadata": {},
   "outputs": [
    {
     "name": "stdout",
     "output_type": "stream",
     "text": [
      "['process', 'process', 'process', 'process', 'process', 'process', 'process', 'process', 'process']\n"
     ]
    },
    {
     "data": {
      "text/plain": [
       "['stone wool production' (kilogram, CH, None),\n",
       " 'market for stone wool, packed' (kilogram, GLO, None),\n",
       " 'market for stone wool factory' (unit, GLO, None),\n",
       " 'stone wool factory construction' (unit, CH, None),\n",
       " 'stone wool factory construction' (unit, RoW, None),\n",
       " 'stone wool production, packed' (kilogram, RoW, None),\n",
       " 'market for stone wool' (kilogram, GLO, None),\n",
       " 'stone wool production, packed' (kilogram, CH, None),\n",
       " 'stone wool production' (kilogram, RoW, None)]"
      ]
     },
     "execution_count": 134,
     "metadata": {},
     "output_type": "execute_result"
    }
   ],
   "source": [
    "x = \"stone wool\"\n",
    "ei =    bd.Database(\"ecoinvent 3.8 cutoff\")\n",
    "demand_act = [act for act in ei if x in act['name']]\n",
    "print([act['type'] for act in ei if x in act['name']])\n",
    "demand_act"
   ]
  },
  {
   "cell_type": "code",
   "execution_count": null,
   "id": "3992d3ac",
   "metadata": {},
   "outputs": [],
   "source": []
  }
 ],
 "metadata": {
  "kernelspec": {
   "display_name": "Python [conda env:lca-env]",
   "language": "python",
   "name": "conda-env-lca-env-py"
  },
  "language_info": {
   "codemirror_mode": {
    "name": "ipython",
    "version": 3
   },
   "file_extension": ".py",
   "mimetype": "text/x-python",
   "name": "python",
   "nbconvert_exporter": "python",
   "pygments_lexer": "ipython3",
   "version": "3.10.4"
  }
 },
 "nbformat": 4,
 "nbformat_minor": 5
}
