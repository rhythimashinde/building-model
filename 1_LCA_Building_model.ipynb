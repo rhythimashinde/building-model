{
 "cells": [
  {
   "cell_type": "code",
   "execution_count": null,
   "metadata": {},
   "outputs": [],
   "source": [
    "# This part you need to run once per project, which I have already done, so it is commented out. \n",
    "# It imports necessary databases (possibly a lengthy process), and backs up the project directory \n",
    "# so that it is saved in the home directory. The backed up project can be used by other project \n",
    "# collaborators without the need to import any databases again. The next section starts with restoring \n",
    "# the saved project from directory.\n",
    "\n",
    "# import bw2data as bd\n",
    "# import bw2calc as bc\n",
    "# import bw2io as bi\n",
    "# import numpy as np\n",
    "\n",
    "# ei_path = \"/Users/akim/Documents/LCA_files/ecoinvent_38_cutoff/datasets\"\n",
    "# ei_name = \"ecoinvent 3.8 cutoff\"\n",
    "\n",
    "# bd.projects.set_current(\"Building paper\")"
   ]
  },
  {
   "cell_type": "code",
   "execution_count": null,
   "metadata": {},
   "outputs": [],
   "source": [
    "# # Import biosphere\n",
    "# bi.bw2setup()"
   ]
  },
  {
   "cell_type": "code",
   "execution_count": null,
   "metadata": {},
   "outputs": [],
   "source": [
    "# # Import ecoinvent\n",
    "# if ei_name in bd.databases:\n",
    "#     print(\"database already exists\")\n",
    "# else:\n",
    "#     ei = bi.SingleOutputEcospold2Importer(ei_path, ei_name)\n",
    "#     ei.apply_strategies()\n",
    "#     assert ei.all_linked\n",
    "#     ei.write_database()"
   ]
  },
  {
   "cell_type": "code",
   "execution_count": null,
   "metadata": {},
   "outputs": [],
   "source": [
    "# bi.backup_project_directory(\"Building paper\")"
   ]
  },
  {
   "cell_type": "code",
   "execution_count": 1,
   "metadata": {},
   "outputs": [],
   "source": [
    "import os\n",
    "os.chdir(\"/home/shinder/0_work/1_Models/2_building/2a_integrations/model_building/building-model/model_lca\")\n",
    "\n",
    "import bw2data as bd\n",
    "import bw2calc as bc\n",
    "import bw2io as bi\n",
    "import numpy as np\n",
    "\n",
    "# Only need to run this once! Otherwise you might work on this project, eg import `building lci` database, \n",
    "# but then overwrite it if you restore it from the backup\n",
    "# fp_building_bw_project = \"brightway2-project-Building paper-backup.19-September-2022-03-55PM.tar.gz\"\n",
    "# bi.restore_project_directory(fp_building_bw_project)"
   ]
  },
  {
   "cell_type": "code",
   "execution_count": 2,
   "metadata": {},
   "outputs": [
    {
     "data": {
      "text/plain": [
       "Databases dictionary with 3 object(s):\n",
       "\tbiosphere3\n",
       "\tbuilding lci\n",
       "\tecoinvent 3.8 cutoff"
      ]
     },
     "execution_count": 2,
     "metadata": {},
     "output_type": "execute_result"
    }
   ],
   "source": [
    "bd.projects.set_current(\"Building paper\")\n",
    "bd.databases"
   ]
  },
  {
   "cell_type": "code",
   "execution_count": 4,
   "metadata": {},
   "outputs": [
    {
     "name": "stdout",
     "output_type": "stream",
     "text": [
      "Extracted 3 worksheets in 0.13 seconds\n",
      "Applying strategy: csv_restore_tuples\n",
      "Applying strategy: csv_restore_booleans\n",
      "Applying strategy: csv_numerize\n",
      "Applying strategy: csv_drop_unknown\n",
      "Applying strategy: csv_add_missing_exchanges_section\n",
      "Applying strategy: normalize_units\n",
      "Applying strategy: normalize_biosphere_categories\n",
      "Applying strategy: normalize_biosphere_names\n",
      "Applying strategy: strip_biosphere_exc_locations\n",
      "Applying strategy: set_code_by_activity_hash\n",
      "Applying strategy: link_iterable_by_fields\n",
      "Applying strategy: assign_only_product_as_production\n",
      "Applying strategy: link_technosphere_by_activity_hash\n",
      "Applying strategy: drop_falsey_uncertainty_fields_but_keep_zeros\n",
      "Applying strategy: convert_uncertainty_types_to_integers\n",
      "Applying strategy: convert_activity_parameters_to_list\n",
      "Applied 16 strategies in 15.31 seconds\n",
      "Applying strategy: link_iterable_by_fields\n"
     ]
    },
    {
     "name": "stderr",
     "output_type": "stream",
     "text": [
      "Writing activities to SQLite3 database:\n"
     ]
    },
    {
     "name": "stdout",
     "output_type": "stream",
     "text": [
      "Applying strategy: link_iterable_by_fields\n",
      "24 datasets\n",
      "117 exchanges\n",
      "0 unlinked exchanges\n",
      "  \n"
     ]
    },
    {
     "name": "stderr",
     "output_type": "stream",
     "text": [
      "0% [########################] 100% | ETA: 00:00:00\n",
      "Total time elapsed: 00:00:00\n"
     ]
    },
    {
     "name": "stdout",
     "output_type": "stream",
     "text": [
      "Title: Writing activities to SQLite3 database:\n",
      "  Started: 01/10/2023 15:09:39\n",
      "  Finished: 01/10/2023 15:09:39\n",
      "  Total time elapsed: 00:00:00\n",
      "  CPU %: 146.90\n",
      "  Memory %: 0.08\n",
      "Created database: building lci\n"
     ]
    }
   ],
   "source": [
    "# Import foreground database from excel\n",
    "\n",
    "# delete database \n",
    "# -- doesn't hurt to do it every time you run the code, because it is very fast, but your database is then always updated\n",
    "# del bd.databases[\"building lci\"]  \n",
    "\n",
    "# if \"building lci\" not in bd.databases:\n",
    "fp_building_lci_excel = \"building_lci.xlsx\"\n",
    "bld = bi.ExcelImporter(fp_building_lci_excel)\n",
    "bld.apply_strategies()\n",
    "bld.match_database(\"ecoinvent 3.8 cutoff\", fields=(\"name\", \"location\"))\n",
    "bld.match_database()\n",
    "\n",
    "if bld.all_linked:\n",
    "    bld.write_database()\n",
    "else:\n",
    "    bld.statistics()"
   ]
  },
  {
   "cell_type": "code",
   "execution_count": null,
   "metadata": {},
   "outputs": [],
   "source": [
    "list (bld.unlinked)"
   ]
  },
  {
   "cell_type": "code",
   "execution_count": null,
   "metadata": {},
   "outputs": [],
   "source": [
    "# LCIA\n",
    "bld = bd.Database(\"building lci\")\n",
    "\n",
    "n =12 #number of buildings\n",
    "for x in range(1,n+1):\n",
    "    building_name = str(\"building \")+str(x)\n",
    "    demand_act = [act for act in bld if building_name in act['name']]\n",
    "#     assert len(demand_act) == 1\n",
    "    demand_act = demand_act[0]\n",
    "\n",
    "    method = ('IPCC 2013', 'climate change', 'GWP 100a')\n",
    "\n",
    "    lca = bc.LCA({demand_act: 1}, method)\n",
    "    lca.lci()\n",
    "    lca.lcia()\n",
    "    print(building_name, lca.score)"
   ]
  },
  {
   "cell_type": "code",
   "execution_count": 11,
   "metadata": {},
   "outputs": [],
   "source": [
    "import pandas as pd\n",
    "df_lci = pd.read_excel(open('Material_inventory_mapping.xlsx', 'rb'), sheet_name='Component wise inventories')  "
   ]
  },
  {
   "cell_type": "code",
   "execution_count": 13,
   "metadata": {},
   "outputs": [
    {
     "data": {
      "text/plain": [
       "0               12 cm X 16 cm timber frame construction \n",
       "1                               3-layer solid wood panel\n",
       "2                    3-layer solid wood panel PVAc-bound\n",
       "3              5-layer insulated (glass wool) wood panel\n",
       "4      8cm x 12cm timber frame construction with inte...\n",
       "                             ...                        \n",
       "157    Timber frame construction with intermediate ro...\n",
       "158                  Vapour barrier of polyethylene (PE)\n",
       "159             Vapour barrier of polypropylene nonwoven\n",
       "160                                           Wind paper\n",
       "161                       Wood wool board, cement bonded\n",
       "Name: Viola material, Length: 162, dtype: object"
      ]
     },
     "execution_count": 13,
     "metadata": {},
     "output_type": "execute_result"
    }
   ],
   "source": [
    "df_lci['Viola material']"
   ]
  },
  {
   "cell_type": "code",
   "execution_count": 20,
   "metadata": {},
   "outputs": [
    {
     "name": "stdout",
     "output_type": "stream",
     "text": [
      "['cement production, fly ash 6-20%' (kilogram, ZA, None), 'treatment of waste cement-fibre slab, collection for final disposal' (kilogram, CH, None), 'basic oxygen furnace slag, for recovery to generic market for supplementary cementitious materials' (kilogram, RoW, None), 'cement production, limestone 6-20%' (kilogram, ZA, None), 'cement, all types to generic market for cement, unspecified' (kilogram, IN, None), 'concrete production, 20MPa, self-construction, with cement, limestone 21-35%' (cubic meter, PE, None), 'blast furnace dust, for recovery to generic market for supplementary cementitious materials' (kilogram, RER, None), 'cement, all types to generic market for cement, unspecified' (kilogram, RoW, None), 'market for cement factory' (unit, GLO, None), 'market for cement mortar' (kilogram, CH, None), 'market for cement, blast furnace slag 70-100%' (kilogram, US, None), 'treatment of waste bulk iron, excluding reinforcement, sorting plant' (kilogram, RoW, None), 'market for cement, blast furnace slag 66-80%' (kilogram, CH, None), 'market for fibre cement facing tile, large format' (kilogram, GLO, None), 'wood wool boards production, cement bonded' (cubic meter, RoW, None), 'cement production, fly ash 21-35%' (kilogram, ZA, None), 'cement production, alternative constituents 6-20%' (kilogram, Europe without Switzerland, None), 'cement production, pozzolana and fly ash 6-14%' (kilogram, BR, None), 'market for cement, blast furnace slag 66-80%' (kilogram, Europe without Switzerland, None), 'market for waste cement-fibre slab, dismantled' (kilogram, CH, None), 'cement production, alternative constituents 21-35%' (kilogram, Europe without Switzerland, None), 'market for waste cement in concrete and mortar' (kilogram, RoW, None), 'cement production, Portland' (kilogram, Europe without Switzerland, None), 'cement, unspecified, import from Europe' (kilogram, CH, None), 'market for cement, limestone 21-35%' (kilogram, PE, None), 'market for cement, blast furnace slag 6-20%' (kilogram, RoW, None), 'cement production, Portland' (kilogram, CH, None), 'fibre cement facing tile production, small format' (kilogram, RoW, None), 'concrete production, 40MPa, ready-mix, with cement blast furnace slag 35-70%' (cubic meter, BR, None), 'market for cement, pozzolana and fly ash 11-35%' (kilogram, CH, None), 'ground granulated blast furnace slag to generic market for supplementary cementitious materials' (kilogram, RoW, None), 'cement production, pozzolana and fly ash 15-50%' (kilogram, BR, None), 'concrete production, 40MPa, ready-mix, with cement, limestone 21-35%' (cubic meter, PE, None), 'cement production, pozzolana and fly ash 5-15%' (kilogram, RoW, None), 'concrete production, 40MPa, ready-mix, with cement blast furnace slag 6-34%' (cubic meter, RoW, None), 'market for cement, blast furnace slag 35-70%' (kilogram, BR, None), 'concrete production, 40MPa, ready-mix, with cement limestone 6-10%' (cubic meter, RoW, None), 'market for cement plaster' (cubic meter, RoW, None), 'cement production, pozzolana and fly ash 25-35%' (kilogram, RoW, None), 'market for cement, pozzolana and fly ash 5-15%' (kilogram, US, None), 'market for cement, blast furnace slag 25-70%' (kilogram, RoW, None), 'calcined clay to generic market for supplementary cementitious materials' (kilogram, BR, None), 'cement production, pozzolana and fly ash 15-40%' (kilogram, US, None), 'concrete production, 25MPa, ready-mix, with cement blast furnace slag 35-70%' (cubic meter, RoW, None), 'basic oxygen furnace dust, for recovery to generic market for supplementary cementitious materials' (kilogram, RER, None), 'cement production, alternative constituents 6-20%' (kilogram, RoW, None), 'cement production, blast furnace slag 40-70%' (kilogram, RoW, None), 'cement production, blast furnace slag 21-35%' (kilogram, RoW, None), 'cement factory construction' (unit, CH, None), 'market for cement, unspecified' (kilogram, PE, None), 'cement production, pozzolana and fly ash 36-55%' (kilogram, RoW, None), 'cement, all types to generic market for cement, unspecified' (kilogram, CH, None), 'cement production, blast furnace slag 36-65%' (kilogram, CH, None), 'market for cement, pozzolana and fly ash 36-55%' (kilogram, RoW, None), 'treatment of waste cement in concrete and mortar, sorting plant' (kilogram, RoW, None), 'cement production, alternative constituents 21-35%' (kilogram, CH, None), 'treatment of waste cement-fibre slab, collection for final disposal' (kilogram, RoW, None), 'market for cement plaster' (cubic meter, IN, None), 'cement, all types to generic market for cement, unspecified' (kilogram, ZA, None), 'basic oxygen furnace secondary metallurgy slag, for recovery to generic market for supplementary cementitious materials' (kilogram, RoW, None), 'market for cement, alternative constituents 45%' (kilogram, RoW, None), 'cement production, pozzolana and fly ash 6-14%' (kilogram, RoW, None), 'treatment of waste cement-fibre slab, dismantled, municipal incineration with fly ash extraction' (megajoule, CH, None), 'cement production, fly ash 6-20%' (kilogram, ZA, None), 'concrete production, for drilled piles, with cement CEM II/A' (cubic meter, CH, None), 'granulated blast furnace slag to generic market for supplementary cementitious materials' (kilogram, RoW, None), 'cement production, limestone 6-10%' (kilogram, BR, None), 'market for cement, blast furnace slag 81-95%' (kilogram, Europe without Switzerland, None), 'treatment of waste reinforcement steel, collection for final disposal' (kilogram, CH, None), 'concrete production, 40MPa, ready-mix, with cement, pozzolana and fly ash 36-55%' (cubic meter, RoW, None), 'cement production, blast furnace slag 36-65%' (kilogram, Europe without Switzerland, None), 'market for cement, Portland' (kilogram, CH, None), 'market for cement, limestone 6-10%' (kilogram, BR, None), 'cement production, pozzolana and fly ash 11-35%' (kilogram, RoW, None), 'market for wood wool boards, cement bonded' (cubic meter, RER, None), 'cement cast plaster floor production' (kilogram, RoW, None), 'treatment of waste cement in concrete and mortar, collection for final disposal' (kilogram, Europe without Switzerland, None), 'cement production, pozzolana and fly ash 5-15%' (kilogram, US, None), 'market for cement, limestone 21-35%' (kilogram, RoW, None), 'market for cement, alternative constituents 6-20%' (kilogram, CH, None), 'market for packing, cement' (kilogram, GLO, None), 'market for cement, blast furnace slag 70-100%' (kilogram, RoW, None), 'market for cement, pozzolana and fly ash 25-35%' (kilogram, RoW, None), 'concrete production, 40MPa, ready-mix, with cement, pozzolana and fly ash 36-55%' (cubic meter, PE, None), 'market for cement mortar' (kilogram, RoW, None), 'market for waste cement, hydrated' (kilogram, Europe without Switzerland, None), 'market for supplementary cementitious materials' (kilogram, RER, None), 'treatment of waste cement-fibre slab, municipal incineration' (kilogram, RoW, None), 'concrete production, 20MPa, self, construction, with cement, pozzolana and fly ash 36-55%' (cubic meter, RoW, None), 'cement production, blast furnace slag 70-100%' (kilogram, RoW, None), 'treatment of waste cement-fibre slab, municipal incineration' (megajoule, RoW, None), 'concrete production, 40MPa, ready-mix, with Portland cement' (cubic meter, RoW, None), 'concrete production, 35MPa, ready-mix, with cement blast furnace slag 35-70%' (cubic meter, BR, None), 'concrete production, 20MPa, self-construction, with cement, limestone 21-35%' (cubic meter, RoW, None), 'treatment of waste cement in concrete and mortar, collection for final disposal' (kilogram, RoW, None), 'packing, fibre cement product' (kilogram, RoW, None), 'market for cement, blast furnace slag 18-30% and 18-30% other alternative constituents' (kilogram, RoW, None), 'concrete production, 20MPa, self-construction, with Portland cement' (cubic meter, RoW, None), 'market for packing, fibre cement product' (kilogram, GLO, None), 'cement production, fly ash 21-35%' (kilogram, RoW, None), 'basic oxygen furnace slag, for recovery to generic market for supplementary cementitious materials' (kilogram, RER, None), 'cement production, blast furnace slag 36-65%' (kilogram, RoW, None), 'market for fibre cement facing tile, small format' (kilogram, GLO, None), 'cement factory construction' (unit, RoW, None), 'market for cement, blast furnace slag 18-30% and 18-30% other alternative constituents' (kilogram, CH, None), 'cement production, pozzolana and fly ash 6-14%' (kilogram, BR, None), 'basic oxygen furnace dust, for recovery to generic market for supplementary cementitious materials' (kilogram, RoW, None), 'concrete production, 35MPa, ready-mix, with cement limestone 6-10%' (cubic meter, BR, None), 'market for cement, pozzolana and fly ash 15-50%' (kilogram, RoW, None), 'particleboard production, cement bonded' (cubic meter, RoW, None), 'fibre cement facing tile production' (kilogram, CH, None), 'fibre cement facing tile production, large format' (kilogram, CH, None), 'treatment of waste cement, hydrated, residual material landfill' (kilogram, RoW, None), 'market for cement, unspecified' (kilogram, ZA, None), 'cement production, pozzolana and fly ash 36-55%' (kilogram, PE, None), 'concrete production, 40MPa, ready-mix, with cement blast furnace slag 35-70%' (cubic meter, RoW, None), 'wood wool boards production, cement bonded' (cubic meter, RER, None), 'market for supplementary cementitious materials' (kilogram, BR, None), 'cement mortar production' (kilogram, CH, None), 'concrete production, 25MPa, ready-mix, with cement limestone 6-10%' (cubic meter, RoW, None), 'market for cement, Portland' (kilogram, CA-QC, None), 'concrete production, 40MPa, ready-mix, with cement limestone 6-10%' (cubic meter, BR, None), 'cement production, pozzolana and fly ash 15-50%' (kilogram, RoW, None), 'market for cement, blast furnace slag 81-95%' (kilogram, CH, None), 'cement mortar production' (kilogram, RoW, None), 'concrete production, for civil engineering, with cement CEM II/A' (cubic meter, CH, None), 'market for cement, unspecified' (kilogram, RoW, None), 'market for cement, portland fly ash cement 21-35%' (kilogram, ZA, None), 'concrete production, 25MPa, ready-mix, with cement blast furnace slag 35-70%' (cubic meter, BR, None), 'cement production, alternative constituents 6-20%' (kilogram, Europe without Switzerland, None), 'market for cement, pozzolana and fly ash 11-35%' (kilogram, RoW, None), 'cement production, pozzolana and fly ash 6-14%' (kilogram, RoW, None), 'treatment of waste cement-fibre slab, dismantled, municipal incineration with fly ash extraction' (kilogram, CH, None), 'cement production, blast furnace slag 31-50% and 31-50% other alternative constituents' (kilogram, Europe without Switzerland, None), 'cement production, alternative constituents 6-20%' (kilogram, CH, None), 'treatment of waste reinforcement steel, recycling' (kilogram, RoW, None), 'cement production, pozzolana and fly ash 15-50%' (kilogram, RoW, None), 'market for waste cement in concrete and mortar' (kilogram, CH, None), 'treatment of waste bulk iron, excluding reinforcement, sorting plant' (kilogram, CH, None), 'cement production, blast furnace slag 31-50% and 31-50% other alternative constituents' (kilogram, Europe without Switzerland, None), 'cement production, pozzolana and fly ash 25-35%' (kilogram, RoW, None), 'wooden board factory construction, cement bonded boards' (unit, RoW, None), 'market for cement, blast furnace slag 81-95%' (kilogram, RoW, None), 'concrete production, for building construction, with cement CEM II/A' (cubic meter, CH, None), 'market for cement, blast furnace slag 31-50% and 31-50% other alternative constituents' (kilogram, RoW, None), 'treatment of waste cement, hydrated, residual material landfill' (kilogram, Europe without Switzerland, None), 'cement production, blast furnace slag 81-95%' (kilogram, CH, None), 'cement production, fly ash 21-35%' (kilogram, ZA, None), 'concrete production, 30MPa, ready-mix, with cement blast furnace slag 6-34%' (cubic meter, RoW, None), 'market for cement, alternative constituents 6-20%' (kilogram, Europe without Switzerland, None), 'cement production, blast furnace slag 25-70%' (kilogram, US, None), 'market for cement, alternative constituents 21-35%' (kilogram, CO, None), 'market for waste cement in concrete and mortar' (kilogram, Europe without Switzerland, None), 'cement production, pozzolana and fly ash 15-40%' (kilogram, US, None), 'cement production, blast furnace slag 66-80%' (kilogram, CH, None), 'treatment of waste cement in concrete and mortar, collection for final disposal' (kilogram, CH, None), 'market for waste cement-fibre slab' (kilogram, CH, None), 'concrete production, 30MPa, ready-mix, with cement blast furnace slag 35-70%' (cubic meter, BR, None), 'market for waste cement-fibre slab' (kilogram, RoW, None), 'limestone, crushed, washed to generic market for supplementary cementitious materials' (kilogram, RER, None), 'cement production, limestone 21-35%' (kilogram, ZA, None), 'cement mortar production, hand-mixed, on-site' (kilogram, IN, None), 'market for cement, pozzolana and fly ash 25-35%' (kilogram, IN, None), 'market group for cement, unspecified' (kilogram, GLO, None), 'concrete production, 30MPa, ready-mix, with cement blast furnace slag 6-34%' (cubic meter, BR, None), 'treatment of waste cement-fibre slab, municipal incineration' (kilogram, CH, None), 'packing, fibre cement product' (kilogram, CH, None), 'unreinforced concrete production, with cement CEM II/A' (cubic meter, CH, None), 'market for cement, unspecified' (kilogram, US, None), 'market for cement, Portland' (kilogram, IN, None), 'concrete production, 20MPa, ready-mix, with cement, pozzolana and fly ash 36-55%' (cubic meter, RoW, None), 'clay to generic market for supplementary cementitious materials' (kilogram, GLO, None), 'treatment of waste cement-fibre slab, recycling' (kilogram, CH, None), 'cement production, blast furnace slag 6-34%' (kilogram, BR, None), 'concrete production, 35MPa, ready-mix, with cement limestone 6-10%' (cubic meter, RoW, None), 'particleboard production, cement bonded' (cubic meter, RER, None), 'cement production, sulphate resistant' (kilogram, BR, None), 'cement production, blast furnace slag 81-95%' (kilogram, Europe without Switzerland, None), 'market for cement, pozzolana and fly ash 15-40%' (kilogram, RoW, None), 'cement production, pozzolana and fly ash 15-50%' (kilogram, BR, None), 'ground granulated blast furnace slag to generic market for supplementary cementitious materials' (kilogram, IN, None), 'market for cement cast plaster floor' (kilogram, GLO, None), 'cement production, alternative constituents 45%' (kilogram, RoW, None), 'cement production, Portland' (kilogram, ZA, None), 'cement production, fly ash 6-20%' (kilogram, RoW, None), 'electric arc furnace secondary metallurgy slag, for recovery to generic market for supplementary cementitious materials' (kilogram, RoW, None), 'electric arc furnace slag, for recovery to generic market for supplementary cementitious materials' (kilogram, RER, None), 'market for fibre cement corrugated slab' (kilogram, GLO, None), 'cement production, blast furnace slag 40-70%' (kilogram, IN, None), 'cement production, alternative constituents 45%' (kilogram, CO, None), 'cement production, pozzolana and fly ash 11-35%' (kilogram, Europe without Switzerland, None), 'cement production, blast furnace slag 31-50% and 31-50% other alternative constituents' (kilogram, CH, None), 'market for cement, portland fly ash cement 6-20%' (kilogram, ZA, None), 'cement tile production' (kilogram, CH, None), 'cement production, limestone 6-20%' (kilogram, RoW, None), 'cement production, blast furnace slag 18-30% and 18-30% other alternative constituents' (kilogram, RoW, None), 'cement production, pozzolana and fly ash 15-50%' (kilogram, BR, None), 'cement production, pozzolana and fly ash 11-35%' (kilogram, CH, None), 'concrete production, for civil engineering, with cement CEM II/B' (cubic meter, CH, None), 'ground granulated blast furnace slag to generic market for supplementary cementitious materials' (kilogram, US, None), 'cement production, limestone 21-35%' (kilogram, PE, None), 'cement, all types to generic market for cement, unspecified' (kilogram, Europe without Switzerland, None), 'market for cement, blast furnace slag 40-70%' (kilogram, IN, None), 'cement production, pozzolana and fly ash 15-40%' (kilogram, RoW, None), 'cement production, pozzolana and fly ash 36-55%' (kilogram, CH, None), 'concrete production, 20MPa, ready-mix, with cement, alternative constituents 21-35%' (cubic meter, CO, None), 'market for cement, Portland' (kilogram, PE, None), 'cement production, blast furnace slag 81-95%' (kilogram, RoW, None), 'market for cement, Portland' (kilogram, ZA, None), 'cement production, pozzolana and fly ash 11-35%' (kilogram, Europe without Switzerland, None), 'cement production, blast furnace slag 25-70%' (kilogram, RoW, None), 'cement production, pozzolana and fly ash 36-55%' (kilogram, Europe without Switzerland, None), 'cement production, pozzolana and fly ash 15-40%' (kilogram, RoW, None), 'concrete production, 20MPa, ready-mix, with cement, alternative constituents 21-35%' (cubic meter, RoW, None), 'concrete production, 35MPa, ready-mix, with cement blast furnace slag 6-34%' (cubic meter, BR, None), 'concrete production, 40MPa, ready-mix, with Portland cement' (cubic meter, PE, None), 'fibre cement facing tile production' (kilogram, RoW, None), 'market for cement, blast furnace slag 6-34%' (kilogram, BR, None), 'concrete production, 20MPa, ready-mix, with cement, pozzolana and fly ash 36-55%' (cubic meter, PE, None), 'concrete production, 35MPa, ready-mix, with cement blast furnace slag 6-34%' (cubic meter, RoW, None), 'market for fibre cement roof slate' (kilogram, GLO, None), 'market for waste bulk iron, excluding reinforcement' (kilogram, Europe without Switzerland, None), 'market for waste reinforcement steel' (kilogram, CH, None), 'market for cement, blast furnace slag 5-25%' (kilogram, US, None), 'cement production, blast furnace slag 18-30% and 18-30% other alternative constituents' (kilogram, Europe without Switzerland, None), 'cement production, blast furnace slag 66-80%' (kilogram, Europe without Switzerland, None), 'cement, all types to generic market for cement, unspecified' (kilogram, CA-QC, None), 'cement production, alternative constituents 21-35%' (kilogram, Europe without Switzerland, None), 'cement cast plaster floor production' (kilogram, CH, None), 'concrete production, for drilled piles, with cement CEM II/B' (cubic meter, CH, None), 'cement production, sulphate resistant' (kilogram, BR, None), 'cement production, blast furnace slag 18-30% and 18-30% other alternative constituents' (kilogram, Europe without Switzerland, None), 'market for supplementary cementitious materials' (kilogram, RoW, None), 'cement production, alternative constituents 21-35%' (kilogram, CO, None), 'cement production, blast furnace slag 18-30% and 18-30% other alternative constituents' (kilogram, RoW, None), 'market for waste cement, hydrated' (kilogram, RoW, None), 'basic oxygen furnace sludge, for recovery to generic market for supplementary cementitious materials' (kilogram, RoW, None), 'market for cement, blast furnace slag 36-65%' (kilogram, CH, None), 'cement production, pozzolana and fly ash 15-50%' (kilogram, RoW, None), 'market for cement, alternative constituents 21-35%' (kilogram, CH, None), 'treatment of waste reinforcement steel, sorting plant' (kilogram, CH, None), 'cement production, pozzolana and fly ash 25-35%' (kilogram, IN, None), 'market for cement, blast furnace slag 6-20%' (kilogram, ZA, None), 'basic oxygen furnace secondary metallurgy slag, for recovery to generic market for supplementary cementitious materials' (kilogram, RER, None), 'market for cement, pozzolana and fly ash 5-15%' (kilogram, RoW, None), 'cement, all types to generic market for cement, unspecified' (kilogram, CO, None), 'market for cement, pozzolana and fly ash 6-14%' (kilogram, RoW, None), 'treatment of waste cement in concrete and mortar, sorting plant' (kilogram, Europe without Switzerland, None), 'market for particleboard, cement bonded' (cubic meter, RoW, None), 'cement production, limestone 21-35%' (kilogram, RoW, None), 'fibre cement corrugated slab production' (kilogram, CH, None), 'cement production, blast furnace slag 6-20%' (kilogram, ZA, None), 'market for cement, blast furnace slag 36-65%' (kilogram, Europe without Switzerland, None), 'market for waste cement-fibre slab, dismantled' (kilogram, RoW, None), 'market for cement, pozzolana and fly ash 11-35%' (kilogram, Europe without Switzerland, None), 'cement production, Portland' (kilogram, IN, None), 'market for cement, unspecified' (kilogram, CH, None), 'cement production, blast furnace slag 6-34%' (kilogram, RoW, None), 'cement production, pozzolana and fly ash 25-35%' (kilogram, IN, None), 'market for cement, pozzolana and fly ash 15-50%' (kilogram, BR, None), 'market for waste cement, hydrated' (kilogram, CH, None), 'market for cement, alternative constituents 6-20%' (kilogram, CA-QC, None), 'fibre cement facing tile production, small format' (kilogram, CH, None), 'basic oxygen furnace sludge, for recovery to generic market for supplementary cementitious materials' (kilogram, RER, None), 'market for cement, blast furnace slag 6-34%' (kilogram, RoW, None), 'treatment of waste reinforcement steel, collection for final disposal' (kilogram, RoW, None), 'market for cement, alternative constituents 21-35%' (kilogram, Europe without Switzerland, None), 'concrete production, 35MPa, ready-mix, with cement blast furnace slag 35-70%' (cubic meter, RoW, None), 'cement plaster production, hand-mixed on site' (cubic meter, RoW, None), 'cement production, alternative constituents 6-20%' (kilogram, CA-QC, None), 'market for cement mortar' (kilogram, IN, None), 'market for cement, blast furnace slag 35-70%' (kilogram, RoW, None), 'market for waste reinforcement steel' (kilogram, RoW, None), 'cement, all types to generic market for cement, unspecified' (kilogram, US, None), 'cement production, pozzolana and fly ash 11-35%' (kilogram, RoW, None), 'cement production, pozzolana and fly ash 6-14%' (kilogram, BR, None), 'concrete production, 20MPa, self-construction, with cement, alternative constituents 45%' (cubic meter, CO, None), 'treatment of waste cement-fibre slab, recycling' (kilogram, RoW, None), 'cement production, Portland' (kilogram, US, None), 'cement production, fly ash 21-35%' (kilogram, RoW, None), 'treatment of waste bulk iron, excluding reinforcement, sorting plant' (kilogram, Europe without Switzerland, None), 'market for cement, unspecified' (kilogram, IN, None), 'treatment of waste cement, hydrated, residual material landfill' (kilogram, CH, None), 'cement production, fly ash 6-20%' (kilogram, RoW, None), 'cement production, blast furnace slag 18-30% and 18-30% other alternative constituents' (kilogram, CH, None), 'market for cement tile' (kilogram, GLO, None), 'market for cement, unspecified' (kilogram, Europe without Switzerland, None), 'cement production, pozzolana and fly ash 11-35%' (kilogram, CH, None), 'concrete production, 20MPa, self, construction, with cement, pozzolana and fly ash 36-55%' (cubic meter, PE, None), 'concrete production, 20MPa, self-construction, with cement, alternative constituents 45%' (cubic meter, RoW, None), 'cement production, blast furnace slag 18-30% and 18-30% other alternative constituents' (kilogram, CH, None), 'cement, all types to generic market for cement, unspecified' (kilogram, BR, None), 'cement production, blast furnace slag 70-100%' (kilogram, US, None), 'cement tile production' (kilogram, RoW, None), 'cement mortar production, hand-mixed, on-site' (kilogram, RoW, None), 'concrete production, 30MPa, ready-mix, with cement limestone 6-10%' (cubic meter, BR, None), 'concrete production, 40MPa, ready-mix, with cement, alternative constituents 21-35%' (cubic meter, CO, None), 'concrete production, 20MPa, ready-mix, with Portland cement' (cubic meter, PE, None), 'cement production, alternative constituents 21-35%' (kilogram, CH, None), 'market for fibre cement facing tile' (kilogram, GLO, None), 'market for copper telluride cement' (kilogram, GLO, None), 'market for wooden board factory, cement bonded boards' (unit, GLO, None), 'treatment of waste reinforcement steel, sorting plant' (kilogram, RoW, None), 'cement production, alternative constituents 45%' (kilogram, RoW, None), 'market for waste bulk iron, excluding reinforcement' (kilogram, RoW, None), 'lean concrete production, with cement CEM II/A' (cubic meter, RoW, None), 'cement production, alternative constituents 21-35%' (kilogram, RoW, None), 'cement production, Portland' (kilogram, RoW, None), 'market for cement, blast furnace slag 18-30% and 18-30% other alternative constituents' (kilogram, Europe without Switzerland, None), 'cement production, alternative constituents 45%' (kilogram, CO, None), 'cement production, sulphate resistant' (kilogram, BR, None), 'market for cement, blast furnace slag 5-25%' (kilogram, RoW, None), 'market for cement, pozzolana and fly ash 36-55%' (kilogram, CH, None), 'market for wood wool boards, cement bonded' (cubic meter, RoW, None), 'electric arc furnace slag, for recovery to generic market for supplementary cementitious materials' (kilogram, RoW, None), 'granulated blast furnace slag to generic market for supplementary cementitious materials' (kilogram, BR, None), 'market for waste bulk iron, excluding reinforcement' (kilogram, CH, None), 'concrete production, 25MPa, ready-mix, with cement blast furnace slag 6-34%' (cubic meter, BR, None), 'packing, cement' (kilogram, RoW, None), 'blast furnace sludge, for recovery to generic market for supplementary cementitious materials' (kilogram, RoW, None), 'cement production, Portland' (kilogram, PE, None), 'cement production, blast furnace slag 6-20%' (kilogram, RoW, None), 'cement production, limestone 6-10%' (kilogram, RoW, None), 'cement production, alternative constituents 21-35%' (kilogram, RoW, None), 'fibre cement facing tile production, large format' (kilogram, RoW, None), 'ground granulated blast furnace slag to generic market for supplementary cementitious materials' (kilogram, ZA, None), 'treatment of waste reinforcement steel, recycling' (kilogram, CH, None), 'cement production, pozzolana and fly ash 5-15%' (kilogram, US, None), 'treatment of waste cement in concrete and mortar, sorting plant' (kilogram, CH, None), 'cement production, blast furnace slag 66-80%' (kilogram, RoW, None), 'cement production, Portland' (kilogram, BR, None), 'market for cement, blast furnace slag 25-70%' (kilogram, US, None), 'treatment of waste cement-fibre slab, municipal incineration' (kilowatt hour, RoW, None), 'market for cement, limestone 6-20%' (kilogram, RoW, None), 'market for cement, limestone 6-20%' (kilogram, ZA, None), 'cement production, pozzolana and fly ash 36-55%' (kilogram, RoW, None), 'market for cement, Portland' (kilogram, RoW, None), 'concrete production, 40MPa, ready-mix, with cement, limestone 21-35%' (cubic meter, RoW, None), 'market for cement, pozzolana and fly ash 36-55%' (kilogram, Europe without Switzerland, None), 'market for cement, sulphate resistant' (kilogram, BR, None), 'market for cement, unspecified' (kilogram, BR, None), 'market for cement, blast furnace slag 40-70%' (kilogram, RoW, None), 'market for cement, alternative constituents 45%' (kilogram, CO, None), 'concrete production, 20MPa, self-construction, with Portland cement' (cubic meter, PE, None), 'market for cement, blast furnace slag 66-80%' (kilogram, RoW, None), 'packing, cement' (kilogram, CH, None), 'market for cement, unspecified' (kilogram, CA-QC, None), 'market for cement, blast furnace slag 31-50% and 31-50% other alternative constituents' (kilogram, Europe without Switzerland, None), 'cement production, blast furnace slag 36-65%' (kilogram, ZA, None), 'cement production, pozzolana and fly ash 5-15%' (kilogram, RoW, None), 'treatment of waste cement-fibre slab, dismantled, municipal incineration with fly ash extraction' (kilowatt hour, CH, None), 'fibre cement roof slate production' (kilogram, CH, None), 'cement plaster production, hand-mixed on site' (cubic meter, IN, None), 'market for cement, portland fly ash cement 21-35%' (kilogram, RoW, None), 'market for cement, limestone 6-10%' (kilogram, RoW, None), 'cement production, blast furnace slag 5-25%' (kilogram, US, None), 'electric arc furnace secondary metallurgy slag, for recovery to generic market for supplementary cementitious materials' (kilogram, RER, None), 'concrete production, 30MPa, ready-mix, with cement blast furnace slag 35-70%' (cubic meter, RoW, None), 'concrete production, 25MPa, ready-mix, with cement blast furnace slag 6-34%' (cubic meter, RoW, None), 'market for cement, portland fly ash cement 6-20%' (kilogram, RoW, None), 'market for cement, blast furnace slag 36-65%' (kilogram, RoW, None), 'market for cement, pozzolana and fly ash 15-40%' (kilogram, US, None), 'blast furnace dust, for recovery to generic market for supplementary cementitious materials' (kilogram, RoW, None), 'market for cement, alternative constituents 21-35%' (kilogram, RoW, None), 'cement production, alternative constituents 21-35%' (kilogram, CO, None), 'cement production, blast furnace slag 31-50% and 31-50% other alternative constituents' (kilogram, RoW, None), 'concrete production, 40MPa, ready-mix, with cement, alternative constituents 21-35%' (cubic meter, RoW, None), 'cement production, blast furnace slag 5-25%' (kilogram, RoW, None), 'cement production, blast furnace slag 35-70%' (kilogram, RoW, None), 'market for cement, blast furnace slag 36-65%' (kilogram, ZA, None), 'cement production, pozzolana and fly ash 36-55%' (kilogram, CH, None), 'concrete production, 20MPa, ready-mix, with cement, limestone 21-35%' (cubic meter, PE, None), 'market for cement, Portland' (kilogram, BR, None), 'market for particleboard, cement bonded' (cubic meter, RER, None), 'market for cement, Portland' (kilogram, Europe without Switzerland, None), 'cement production, limestone 21-35%' (kilogram, RoW, None), 'concrete production, 25MPa, ready-mix, with cement limestone 6-10%' (cubic meter, BR, None), 'concrete production, 20MPa, ready-mix, with Portland cement' (cubic meter, RoW, None), 'market for cement, alternative constituents 6-20%' (kilogram, RoW, None), 'concrete production, 30MPa, ready-mix, with cement limestone 6-10%' (cubic meter, RoW, None), 'unreinforced concrete production, with cement CEM II/B' (cubic meter, CH, None), 'market for cement, blast furnace slag 31-50% and 31-50% other alternative constituents' (kilogram, CH, None), 'market for cement, blast furnace slag 21-35%' (kilogram, RoW, None), 'market for cement, pozzolana and fly ash 6-14%' (kilogram, BR, None), 'cement production, pozzolana and fly ash 36-55%' (kilogram, Europe without Switzerland, None), 'cement production, blast furnace slag 35-70%' (kilogram, BR, None), 'market for cement, blast furnace slag 21-35%' (kilogram, ZA, None), 'cement production, limestone 21-35%' (kilogram, PE, None), 'lean concrete production, with cement CEM II/A' (cubic meter, CH, None), 'lean concrete production, with cement CEM II/B' (cubic meter, RoW, None), 'cement production, Portland' (kilogram, CA-QC, None), 'blast furnace sludge, for recovery to generic market for supplementary cementitious materials' (kilogram, RER, None), 'market for cement, unspecified' (kilogram, CO, None), 'cement production, pozzolana and fly ash 6-14%' (kilogram, RoW, None), 'fibre cement roof slate production' (kilogram, RoW, None), 'cement production, blast furnace slag 31-50% and 31-50% other alternative constituents' (kilogram, CH, None), 'lean concrete production, with cement CEM II/B' (cubic meter, CH, None), 'concrete production, 40MPa, ready-mix, with cement blast furnace slag 6-34%' (cubic meter, BR, None), 'concrete production, for drilled piles, with cement CEM I' (cubic meter, CH, None), 'concrete production, for building construction, with cement CEM II/B' (cubic meter, CH, None), 'concrete production, for civil engineering, with cement CEM I' (cubic meter, CH, None), 'cement production, blast furnace slag 31-50% and 31-50% other alternative constituents' (kilogram, RoW, None), 'cement, all types to generic market for cement, unspecified' (kilogram, PE, None), 'cement production, blast furnace slag 21-35%' (kilogram, ZA, None), 'concrete production, 20MPa, ready-mix, with cement, limestone 21-35%' (cubic meter, RoW, None), 'cement production, alternative constituents 6-20%' (kilogram, RoW, None), 'wooden board factory construction, cement bonded boards' (unit, RER, None), 'fibre cement corrugated slab production' (kilogram, RoW, None), 'market for cement, Portland' (kilogram, US, None)]\n"
     ]
    },
    {
     "ename": "TypeError",
     "evalue": "unhashable type: 'list'",
     "output_type": "error",
     "traceback": [
      "\u001b[0;31m---------------------------------------------------------------------------\u001b[0m",
      "\u001b[0;31mTypeError\u001b[0m                                 Traceback (most recent call last)",
      "Input \u001b[0;32mIn [20]\u001b[0m, in \u001b[0;36m<cell line: 7>\u001b[0;34m()\u001b[0m\n\u001b[1;32m      5\u001b[0m \u001b[38;5;66;03m# demand_act = demand_act[0]\u001b[39;00m\n\u001b[1;32m      6\u001b[0m \u001b[38;5;28mprint\u001b[39m(demand_act)\n\u001b[0;32m----> 7\u001b[0m lca \u001b[38;5;241m=\u001b[39m bc\u001b[38;5;241m.\u001b[39mLCA({demand_act: \u001b[38;5;241m1\u001b[39m}, method)\n\u001b[1;32m      8\u001b[0m lca\u001b[38;5;241m.\u001b[39mlci()\n\u001b[1;32m      9\u001b[0m lca\u001b[38;5;241m.\u001b[39mlcia()\n",
      "\u001b[0;31mTypeError\u001b[0m: unhashable type: 'list'"
     ]
    }
   ],
   "source": [
    "x = \"cement\"\n",
    "ei =    bd.Database(\"ecoinvent 3.8 cutoff\")\n",
    "demand_act = [act for act in ei if x in act['name']] #and 'CH' in act['location']]\n",
    "method = ('IPCC 2013', 'climate change', 'GWP 100a')\n",
    "# demand_act = demand_act[0]\n",
    "print(demand_act)\n",
    "lca = bc.LCA({demand_act: 1}, method)\n",
    "lca.lci()\n",
    "lca.lcia()\n",
    "print(lca.score)"
   ]
  },
  {
   "cell_type": "code",
   "execution_count": null,
   "metadata": {},
   "outputs": [],
   "source": [
    "heat production, borehole heat exchanger, brine-water heat pump 10kW\n",
    "heat, from municipal waste incineration to generic market for heat district or industrial, other than natural gas\n",
    "market for heat, central or small-scale, natural gas\n"
   ]
  }
 ],
 "metadata": {
  "kernelspec": {
   "display_name": "Python (lca-env)",
   "language": "python",
   "name": "lca-env"
  },
  "language_info": {
   "codemirror_mode": {
    "name": "ipython",
    "version": 3
   },
   "file_extension": ".py",
   "mimetype": "text/x-python",
   "name": "python",
   "nbconvert_exporter": "python",
   "pygments_lexer": "ipython3",
   "version": "3.10.4"
  }
 },
 "nbformat": 4,
 "nbformat_minor": 5
}
