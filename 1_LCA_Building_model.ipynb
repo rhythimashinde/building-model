{
 "cells": [
  {
   "cell_type": "code",
   "execution_count": 1,
   "metadata": {},
   "outputs": [],
   "source": [
    "# This part you need to run once per project, which I have already done, so it is commented out. \n",
    "# It imports necessary databases (possibly a lengthy process), and backs up the project directory \n",
    "# so that it is saved in the home directory. The backed up project can be used by other project \n",
    "# collaborators without the need to import any databases again. The next section starts with restoring \n",
    "# the saved project from directory.\n",
    "\n",
    "# import bw2data as bd\n",
    "# import bw2calc as bc\n",
    "# import bw2io as bi\n",
    "# import numpy as np\n",
    "\n",
    "# ei_path = \"/Users/akim/Documents/LCA_files/ecoinvent_38_cutoff/datasets\"\n",
    "# ei_name = \"ecoinvent 3.8 cutoff\"\n",
    "\n",
    "# bd.projects.set_current(\"Building paper\")"
   ]
  },
  {
   "cell_type": "code",
   "execution_count": 2,
   "metadata": {},
   "outputs": [],
   "source": [
    "# # Import biosphere\n",
    "# bi.bw2setup()"
   ]
  },
  {
   "cell_type": "code",
   "execution_count": 3,
   "metadata": {},
   "outputs": [],
   "source": [
    "# # Import ecoinvent\n",
    "# if ei_name in bd.databases:\n",
    "#     print(\"database already exists\")\n",
    "# else:\n",
    "#     ei = bi.SingleOutputEcospold2Importer(ei_path, ei_name)\n",
    "#     ei.apply_strategies()\n",
    "#     assert ei.all_linked\n",
    "#     ei.write_database()"
   ]
  },
  {
   "cell_type": "code",
   "execution_count": 4,
   "metadata": {},
   "outputs": [],
   "source": [
    "# bi.backup_project_directory(\"Building paper\")"
   ]
  },
  {
   "cell_type": "code",
   "execution_count": 3,
   "metadata": {},
   "outputs": [],
   "source": [
    "import os\n",
    "os.chdir(\"/home/shinder/0_work/1_Models/2_building/2a_integrations/model_building/building-model/model_lca\")\n",
    "\n",
    "import bw2data as bd\n",
    "import bw2calc as bc\n",
    "import bw2io as bi\n",
    "import numpy as np\n",
    "\n",
    "# Only need to run this once! Otherwise you might work on this project, eg import `building lci` database, \n",
    "# but then overwrite it if you restore it from the backup\n",
    "# fp_building_bw_project = \"brightway2-project-Building paper-backup.19-September-2022-03-55PM.tar.gz\"\n",
    "# bi.restore_project_directory(fp_building_bw_project)"
   ]
  },
  {
   "cell_type": "code",
   "execution_count": 4,
   "metadata": {},
   "outputs": [
    {
     "data": {
      "text/plain": [
       "Databases dictionary with 3 object(s):\n",
       "\tbiosphere3\n",
       "\tbuilding lci\n",
       "\tecoinvent 3.8 cutoff"
      ]
     },
     "execution_count": 4,
     "metadata": {},
     "output_type": "execute_result"
    }
   ],
   "source": [
    "bd.projects.set_current(\"Building paper\")\n",
    "bd.databases"
   ]
  },
  {
   "cell_type": "code",
   "execution_count": 11,
   "metadata": {},
   "outputs": [
    {
     "name": "stdout",
     "output_type": "stream",
     "text": [
      "Extracted 2 worksheets in 0.04 seconds\n",
      "Applying strategy: csv_restore_tuples\n",
      "Applying strategy: csv_restore_booleans\n",
      "Applying strategy: csv_numerize\n",
      "Applying strategy: csv_drop_unknown\n",
      "Applying strategy: csv_add_missing_exchanges_section\n",
      "Applying strategy: normalize_units\n",
      "Applying strategy: normalize_biosphere_categories\n",
      "Applying strategy: normalize_biosphere_names\n",
      "Applying strategy: strip_biosphere_exc_locations\n",
      "Applying strategy: set_code_by_activity_hash\n",
      "Applying strategy: link_iterable_by_fields\n",
      "Applying strategy: assign_only_product_as_production\n",
      "Applying strategy: link_technosphere_by_activity_hash\n",
      "Applying strategy: drop_falsey_uncertainty_fields_but_keep_zeros\n",
      "Applying strategy: convert_uncertainty_types_to_integers\n",
      "Applying strategy: convert_activity_parameters_to_list\n",
      "Applied 16 strategies in 15.40 seconds\n",
      "Applying strategy: link_iterable_by_fields\n"
     ]
    },
    {
     "name": "stderr",
     "output_type": "stream",
     "text": [
      "Writing activities to SQLite3 database:\n"
     ]
    },
    {
     "name": "stdout",
     "output_type": "stream",
     "text": [
      "Applying strategy: link_iterable_by_fields\n",
      "12 datasets\n",
      "93 exchanges\n",
      "0 unlinked exchanges\n",
      "  \n"
     ]
    },
    {
     "name": "stderr",
     "output_type": "stream",
     "text": [
      "0% [############] 100% | ETA: 00:00:00\n",
      "Total time elapsed: 00:00:00\n"
     ]
    },
    {
     "name": "stdout",
     "output_type": "stream",
     "text": [
      "Title: Writing activities to SQLite3 database:\n",
      "  Started: 11/24/2022 13:07:57\n",
      "  Finished: 11/24/2022 13:07:57\n",
      "  Total time elapsed: 00:00:00\n",
      "  CPU %: 170.30\n",
      "  Memory %: 0.08\n",
      "Created database: building lci\n"
     ]
    }
   ],
   "source": [
    "# Import foreground database from excel\n",
    "\n",
    "# delete database \n",
    "# -- doesn't hurt to do it every time you run the code, because it is very fast, but your database is then always updated\n",
    "# del bd.databases[\"building lci\"]  \n",
    "\n",
    "# if \"building lci\" not in bd.databases:\n",
    "fp_building_lci_excel = \"building_lci_2.xlsx\"\n",
    "bld = bi.ExcelImporter(fp_building_lci_excel)\n",
    "bld.apply_strategies()\n",
    "bld.match_database(\"ecoinvent 3.8 cutoff\", fields=(\"name\", \"location\"))\n",
    "bld.match_database()\n",
    "\n",
    "if bld.all_linked:\n",
    "    bld.write_database()\n",
    "else:\n",
    "    bld.statistics()"
   ]
  },
  {
   "cell_type": "code",
   "execution_count": 123,
   "metadata": {},
   "outputs": [
    {
     "data": {
      "text/plain": [
       "[]"
      ]
     },
     "execution_count": 123,
     "metadata": {},
     "output_type": "execute_result"
    }
   ],
   "source": [
    "list (bld.unlinked)"
   ]
  },
  {
   "cell_type": "code",
   "execution_count": 13,
   "metadata": {},
   "outputs": [
    {
     "ename": "NonsquareTechnosphere",
     "evalue": "Technosphere matrix is not square: 19577 activities (columns) and 19565 products (rows). Use LeastSquaresLCA to solve this system, or fix the input data",
     "output_type": "error",
     "traceback": [
      "\u001b[0;31m---------------------------------------------------------------------------\u001b[0m",
      "\u001b[0;31mNonsquareTechnosphere\u001b[0m                     Traceback (most recent call last)",
      "Input \u001b[0;32mIn [13]\u001b[0m, in \u001b[0;36m<cell line: 5>\u001b[0;34m()\u001b[0m\n\u001b[1;32m     11\u001b[0m method \u001b[38;5;241m=\u001b[39m (\u001b[38;5;124m'\u001b[39m\u001b[38;5;124mIPCC 2013\u001b[39m\u001b[38;5;124m'\u001b[39m, \u001b[38;5;124m'\u001b[39m\u001b[38;5;124mclimate change\u001b[39m\u001b[38;5;124m'\u001b[39m, \u001b[38;5;124m'\u001b[39m\u001b[38;5;124mGWP 100a\u001b[39m\u001b[38;5;124m'\u001b[39m)\n\u001b[1;32m     13\u001b[0m lca \u001b[38;5;241m=\u001b[39m bc\u001b[38;5;241m.\u001b[39mLCA({demand_act: \u001b[38;5;241m1\u001b[39m}, method)\n\u001b[0;32m---> 14\u001b[0m \u001b[43mlca\u001b[49m\u001b[38;5;241;43m.\u001b[39;49m\u001b[43mlci\u001b[49m\u001b[43m(\u001b[49m\u001b[43m)\u001b[49m\n\u001b[1;32m     15\u001b[0m lca\u001b[38;5;241m.\u001b[39mlcia()\n\u001b[1;32m     16\u001b[0m \u001b[38;5;28mprint\u001b[39m(building_name, lca\u001b[38;5;241m.\u001b[39mscore)\n",
      "File \u001b[0;32m~/miniconda3/envs/lca-env/lib/python3.10/site-packages/bw2calc/lca.py:354\u001b[0m, in \u001b[0;36mLCA.lci\u001b[0;34m(self, demand, factorize)\u001b[0m\n\u001b[1;32m    339\u001b[0m \u001b[38;5;124;03m\"\"\"\u001b[39;00m\n\u001b[1;32m    340\u001b[0m \u001b[38;5;124;03mCalculate a life cycle inventory.\u001b[39;00m\n\u001b[1;32m    341\u001b[0m \n\u001b[0;32m   (...)\u001b[0m\n\u001b[1;32m    351\u001b[0m \n\u001b[1;32m    352\u001b[0m \u001b[38;5;124;03m\"\"\"\u001b[39;00m\n\u001b[1;32m    353\u001b[0m \u001b[38;5;28;01mif\u001b[39;00m \u001b[38;5;129;01mnot\u001b[39;00m \u001b[38;5;28mhasattr\u001b[39m(\u001b[38;5;28mself\u001b[39m, \u001b[38;5;124m\"\u001b[39m\u001b[38;5;124mtechnosphere_matrix\u001b[39m\u001b[38;5;124m\"\u001b[39m):\n\u001b[0;32m--> 354\u001b[0m     \u001b[38;5;28;43mself\u001b[39;49m\u001b[38;5;241;43m.\u001b[39;49m\u001b[43mload_lci_data\u001b[49m\u001b[43m(\u001b[49m\u001b[43m)\u001b[49m\n\u001b[1;32m    355\u001b[0m \u001b[38;5;28;01mif\u001b[39;00m demand \u001b[38;5;129;01mis\u001b[39;00m \u001b[38;5;129;01mnot\u001b[39;00m \u001b[38;5;28;01mNone\u001b[39;00m:\n\u001b[1;32m    356\u001b[0m     \u001b[38;5;28mself\u001b[39m\u001b[38;5;241m.\u001b[39m__check_demand(demand)\n",
      "File \u001b[0;32m~/miniconda3/envs/lca-env/lib/python3.10/site-packages/bw2calc/lca.py:206\u001b[0m, in \u001b[0;36mLCA.load_lci_data\u001b[0;34m(self, nonsquare_ok)\u001b[0m\n\u001b[1;32m    200\u001b[0m \u001b[38;5;28mself\u001b[39m\u001b[38;5;241m.\u001b[39mdicts\u001b[38;5;241m.\u001b[39mactivity \u001b[38;5;241m=\u001b[39m partial(\u001b[38;5;28mself\u001b[39m\u001b[38;5;241m.\u001b[39mtechnosphere_mm\u001b[38;5;241m.\u001b[39mcol_mapper\u001b[38;5;241m.\u001b[39mto_dict)\n\u001b[1;32m    202\u001b[0m \u001b[38;5;28;01mif\u001b[39;00m (\n\u001b[1;32m    203\u001b[0m     \u001b[38;5;28mlen\u001b[39m(\u001b[38;5;28mself\u001b[39m\u001b[38;5;241m.\u001b[39mtechnosphere_mm\u001b[38;5;241m.\u001b[39mrow_mapper) \u001b[38;5;241m!=\u001b[39m \u001b[38;5;28mlen\u001b[39m(\u001b[38;5;28mself\u001b[39m\u001b[38;5;241m.\u001b[39mtechnosphere_mm\u001b[38;5;241m.\u001b[39mcol_mapper)\n\u001b[1;32m    204\u001b[0m     \u001b[38;5;129;01mand\u001b[39;00m \u001b[38;5;129;01mnot\u001b[39;00m nonsquare_ok\n\u001b[1;32m    205\u001b[0m ):\n\u001b[0;32m--> 206\u001b[0m     \u001b[38;5;28;01mraise\u001b[39;00m NonsquareTechnosphere(\n\u001b[1;32m    207\u001b[0m         (\n\u001b[1;32m    208\u001b[0m             \u001b[38;5;124m\"\u001b[39m\u001b[38;5;124mTechnosphere matrix is not square: \u001b[39m\u001b[38;5;132;01m{}\u001b[39;00m\u001b[38;5;124m activities (columns) and \u001b[39m\u001b[38;5;132;01m{}\u001b[39;00m\u001b[38;5;124m products (rows). \u001b[39m\u001b[38;5;124m\"\u001b[39m\n\u001b[1;32m    209\u001b[0m             \u001b[38;5;124m\"\u001b[39m\u001b[38;5;124mUse LeastSquaresLCA to solve this system, or fix the input \u001b[39m\u001b[38;5;124m\"\u001b[39m\n\u001b[1;32m    210\u001b[0m             \u001b[38;5;124m\"\u001b[39m\u001b[38;5;124mdata\u001b[39m\u001b[38;5;124m\"\u001b[39m\n\u001b[1;32m    211\u001b[0m         )\u001b[38;5;241m.\u001b[39mformat(\n\u001b[1;32m    212\u001b[0m             \u001b[38;5;28mlen\u001b[39m(\u001b[38;5;28mself\u001b[39m\u001b[38;5;241m.\u001b[39mtechnosphere_mm\u001b[38;5;241m.\u001b[39mcol_mapper),\n\u001b[1;32m    213\u001b[0m             \u001b[38;5;28mlen\u001b[39m(\u001b[38;5;28mself\u001b[39m\u001b[38;5;241m.\u001b[39mtechnosphere_mm\u001b[38;5;241m.\u001b[39mrow_mapper),\n\u001b[1;32m    214\u001b[0m         )\n\u001b[1;32m    215\u001b[0m     )\n\u001b[1;32m    217\u001b[0m \u001b[38;5;28mself\u001b[39m\u001b[38;5;241m.\u001b[39mbiosphere_mm \u001b[38;5;241m=\u001b[39m mu\u001b[38;5;241m.\u001b[39mMappedMatrix(\n\u001b[1;32m    218\u001b[0m     packages\u001b[38;5;241m=\u001b[39m\u001b[38;5;28mself\u001b[39m\u001b[38;5;241m.\u001b[39mpackages,\n\u001b[1;32m    219\u001b[0m     matrix\u001b[38;5;241m=\u001b[39m\u001b[38;5;124m\"\u001b[39m\u001b[38;5;124mbiosphere_matrix\u001b[39m\u001b[38;5;124m\"\u001b[39m,\n\u001b[0;32m   (...)\u001b[0m\n\u001b[1;32m    224\u001b[0m     empty_ok\u001b[38;5;241m=\u001b[39m\u001b[38;5;28;01mTrue\u001b[39;00m,\n\u001b[1;32m    225\u001b[0m )\n\u001b[1;32m    226\u001b[0m \u001b[38;5;28mself\u001b[39m\u001b[38;5;241m.\u001b[39mbiosphere_matrix \u001b[38;5;241m=\u001b[39m \u001b[38;5;28mself\u001b[39m\u001b[38;5;241m.\u001b[39mbiosphere_mm\u001b[38;5;241m.\u001b[39mmatrix\n",
      "\u001b[0;31mNonsquareTechnosphere\u001b[0m: Technosphere matrix is not square: 19577 activities (columns) and 19565 products (rows). Use LeastSquaresLCA to solve this system, or fix the input data"
     ]
    }
   ],
   "source": [
    "# LCIA\n",
    "bld = bd.Database(\"building lci\")\n",
    "\n",
    "n =12 #number of buildings\n",
    "for x in range(1,n+1):\n",
    "    building_name = str(\"building \")+str(x)\n",
    "    demand_act = [act for act in bld if building_name in act['name']]\n",
    "#     assert len(demand_act) == 1\n",
    "    demand_act = demand_act[0]\n",
    "\n",
    "    method = ('IPCC 2013', 'climate change', 'GWP 100a')\n",
    "\n",
    "    lca = bc.LCA({demand_act: 1}, method)\n",
    "    lca.lci()\n",
    "    lca.lcia()\n",
    "    print(building_name, lca.score)"
   ]
  },
  {
   "cell_type": "code",
   "execution_count": 17,
   "metadata": {},
   "outputs": [
    {
     "name": "stdout",
     "output_type": "stream",
     "text": [
      "'heat production, wood pellet, at furnace 25kW' (megajoule, CH, None)\n",
      "0.013365199703608386\n"
     ]
    }
   ],
   "source": [
    "x = \"wood pellet\"\n",
    "ei =    bd.Database(\"ecoinvent 3.8 cutoff\")\n",
    "demand_act = [act for act in ei if x in act['name'] and 'CH' in act['location']]\n",
    "method = ('IPCC 2013', 'climate change', 'GWP 100a')\n",
    "demand_act = demand_act[0]\n",
    "print(demand_act)\n",
    "lca = bc.LCA({demand_act: 1}, method)\n",
    "lca.lci()\n",
    "lca.lcia()\n",
    "print(lca.score)"
   ]
  },
  {
   "cell_type": "code",
   "execution_count": null,
   "metadata": {},
   "outputs": [],
   "source": [
    "heat production, borehole heat exchanger, brine-water heat pump 10kW\n",
    "heat, from municipal waste incineration to generic market for heat district or industrial, other than natural gas\n",
    "market for heat, central or small-scale, natural gas\n"
   ]
  }
 ],
 "metadata": {
  "kernelspec": {
   "display_name": "Python (lca-env)",
   "language": "python",
   "name": "lca-env"
  },
  "language_info": {
   "codemirror_mode": {
    "name": "ipython",
    "version": 3
   },
   "file_extension": ".py",
   "mimetype": "text/x-python",
   "name": "python",
   "nbconvert_exporter": "python",
   "pygments_lexer": "ipython3",
   "version": "3.10.4"
  }
 },
 "nbformat": 4,
 "nbformat_minor": 5
}
